{
 "cells": [
  {
   "attachments": {},
   "cell_type": "markdown",
   "metadata": {},
   "source": [
    "# 2. It starts with a tensor"
   ]
  },
  {
   "attachments": {},
   "cell_type": "markdown",
   "metadata": {},
   "source": [
    "First step is to convert inputs to floating numbers. It is important to encode a data so that computer or network can understand decode so that human can understand. \n",
    "\n",
    "The transformation from one form of data to another is typically learned by a deep neural network in stages. For image recognition, early representations can be things (like edge detection) or textures (like fur).Deeper representations can capture more-complex structures (like ears, noses, or eyes).\n",
    "\n",
    "These intermediate representation of floating number mapped inputs to outputs"
   ]
  },
  {
   "cell_type": "code",
   "execution_count": null,
   "metadata": {},
   "outputs": [],
   "source": []
  }
 ],
 "metadata": {
  "kernelspec": {
   "display_name": "base",
   "language": "python",
   "name": "python3"
  },
  "language_info": {
   "codemirror_mode": {
    "name": "ipython",
    "version": 3
   },
   "file_extension": ".py",
   "mimetype": "text/x-python",
   "name": "python",
   "nbconvert_exporter": "python",
   "pygments_lexer": "ipython3",
   "version": "3.9.12"
  },
  "orig_nbformat": 4,
  "vscode": {
   "interpreter": {
    "hash": "c42d99d755d00efaf066b964ceed011a4027ae5af520c8ef8190b9acee3a6094"
   }
  }
 },
 "nbformat": 4,
 "nbformat_minor": 2
}
